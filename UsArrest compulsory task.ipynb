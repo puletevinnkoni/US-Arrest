{
 "cells": [
  {
   "cell_type": "code",
   "execution_count": 100,
   "id": "d3cf703d",
   "metadata": {},
   "outputs": [
    {
     "data": {
      "text/html": [
       "<div>\n",
       "<style scoped>\n",
       "    .dataframe tbody tr th:only-of-type {\n",
       "        vertical-align: middle;\n",
       "    }\n",
       "\n",
       "    .dataframe tbody tr th {\n",
       "        vertical-align: top;\n",
       "    }\n",
       "\n",
       "    .dataframe thead th {\n",
       "        text-align: right;\n",
       "    }\n",
       "</style>\n",
       "<table border=\"1\" class=\"dataframe\">\n",
       "  <thead>\n",
       "    <tr style=\"text-align: right;\">\n",
       "      <th></th>\n",
       "      <th>City</th>\n",
       "      <th>Murder</th>\n",
       "      <th>Assault</th>\n",
       "      <th>UrbanPop</th>\n",
       "      <th>Rape</th>\n",
       "    </tr>\n",
       "  </thead>\n",
       "  <tbody>\n",
       "    <tr>\n",
       "      <th>0</th>\n",
       "      <td>Alabama</td>\n",
       "      <td>13.2</td>\n",
       "      <td>236</td>\n",
       "      <td>58</td>\n",
       "      <td>21.2</td>\n",
       "    </tr>\n",
       "    <tr>\n",
       "      <th>1</th>\n",
       "      <td>Alaska</td>\n",
       "      <td>10.0</td>\n",
       "      <td>263</td>\n",
       "      <td>48</td>\n",
       "      <td>44.5</td>\n",
       "    </tr>\n",
       "    <tr>\n",
       "      <th>2</th>\n",
       "      <td>Arizona</td>\n",
       "      <td>8.1</td>\n",
       "      <td>294</td>\n",
       "      <td>80</td>\n",
       "      <td>31.0</td>\n",
       "    </tr>\n",
       "    <tr>\n",
       "      <th>3</th>\n",
       "      <td>Arkansas</td>\n",
       "      <td>8.8</td>\n",
       "      <td>190</td>\n",
       "      <td>50</td>\n",
       "      <td>19.5</td>\n",
       "    </tr>\n",
       "    <tr>\n",
       "      <th>4</th>\n",
       "      <td>California</td>\n",
       "      <td>9.0</td>\n",
       "      <td>276</td>\n",
       "      <td>91</td>\n",
       "      <td>40.6</td>\n",
       "    </tr>\n",
       "  </tbody>\n",
       "</table>\n",
       "</div>"
      ],
      "text/plain": [
       "         City  Murder  Assault  UrbanPop  Rape\n",
       "0     Alabama    13.2      236        58  21.2\n",
       "1      Alaska    10.0      263        48  44.5\n",
       "2     Arizona     8.1      294        80  31.0\n",
       "3    Arkansas     8.8      190        50  19.5\n",
       "4  California     9.0      276        91  40.6"
      ]
     },
     "execution_count": 100,
     "metadata": {},
     "output_type": "execute_result"
    }
   ],
   "source": [
    "import numpy as np\n",
    "import pandas as pd\n",
    "import seaborn as sns\n",
    "import matplotlib.pyplot as plt\n",
    "\n",
    "from sklearn.preprocessing import StandardScaler\n",
    "from sklearn.decomposition import PCA\n",
    "from scipy.spatial.distance import pdist, squareform\n",
    "from sklearn.metrics import accuracy_score, silhouette_score\n",
    "from sklearn.cluster import AgglomerativeClustering\n",
    "from scipy.cluster.hierarchy import dendrogram, linkage\n",
    "from sklearn.model_selection import train_test_split\n",
    "from sklearn.preprocessing import LabelEncoder\n",
    "from sklearn.cluster import KMeans\n",
    "from sklearn.tree import DecisionTreeClassifier\n",
    "from sklearn.ensemble import BaggingClassifier\n",
    "from sklearn.ensemble import RandomForestClassifier\n",
    "from sklearn.ensemble import AdaBoostClassifier\n",
    "from sklearn.datasets import make_classification\n",
    "\n",
    "\n",
    "# Load data\n",
    "df = pd.read_csv('UsArrests.csv')\n",
    "df.head()"
   ]
  },
  {
   "cell_type": "code",
   "execution_count": 101,
   "id": "064b399a",
   "metadata": {},
   "outputs": [],
   "source": [
    "##Exploring Data"
   ]
  },
  {
   "cell_type": "code",
   "execution_count": 102,
   "id": "df2f5f99",
   "metadata": {},
   "outputs": [
    {
     "name": "stdout",
     "output_type": "stream",
     "text": [
      "City        0\n",
      "Murder      0\n",
      "Assault     0\n",
      "UrbanPop    0\n",
      "Rape        0\n",
      "dtype: int64\n",
      "\n"
     ]
    }
   ],
   "source": [
    "# check if there are missing values\n",
    "print(df.isnull().sum(), end='\\n\\n')\n"
   ]
  },
  {
   "cell_type": "code",
   "execution_count": 103,
   "id": "42c9a968",
   "metadata": {},
   "outputs": [
    {
     "name": "stdout",
     "output_type": "stream",
     "text": [
      "<class 'pandas.core.frame.DataFrame'>\n",
      "RangeIndex: 50 entries, 0 to 49\n",
      "Data columns (total 5 columns):\n",
      " #   Column    Non-Null Count  Dtype  \n",
      "---  ------    --------------  -----  \n",
      " 0   City      50 non-null     object \n",
      " 1   Murder    50 non-null     float64\n",
      " 2   Assault   50 non-null     int64  \n",
      " 3   UrbanPop  50 non-null     int64  \n",
      " 4   Rape      50 non-null     float64\n",
      "dtypes: float64(2), int64(2), object(1)\n",
      "memory usage: 2.1+ KB\n",
      "None\n"
     ]
    }
   ],
   "source": [
    "# check if there are non-numerical features\n",
    "print(df.info())\n"
   ]
  },
  {
   "cell_type": "code",
   "execution_count": 104,
   "id": "0ce02b05",
   "metadata": {},
   "outputs": [
    {
     "data": {
      "text/html": [
       "<div>\n",
       "<style scoped>\n",
       "    .dataframe tbody tr th:only-of-type {\n",
       "        vertical-align: middle;\n",
       "    }\n",
       "\n",
       "    .dataframe tbody tr th {\n",
       "        vertical-align: top;\n",
       "    }\n",
       "\n",
       "    .dataframe thead th {\n",
       "        text-align: right;\n",
       "    }\n",
       "</style>\n",
       "<table border=\"1\" class=\"dataframe\">\n",
       "  <thead>\n",
       "    <tr style=\"text-align: right;\">\n",
       "      <th></th>\n",
       "      <th>City</th>\n",
       "      <th>Murder</th>\n",
       "      <th>Assault</th>\n",
       "      <th>UrbanPop</th>\n",
       "      <th>Rape</th>\n",
       "    </tr>\n",
       "  </thead>\n",
       "  <tbody>\n",
       "    <tr>\n",
       "      <th>0</th>\n",
       "      <td>Alabama</td>\n",
       "      <td>13.2</td>\n",
       "      <td>236</td>\n",
       "      <td>58</td>\n",
       "      <td>21.2</td>\n",
       "    </tr>\n",
       "    <tr>\n",
       "      <th>1</th>\n",
       "      <td>Alaska</td>\n",
       "      <td>10.0</td>\n",
       "      <td>263</td>\n",
       "      <td>48</td>\n",
       "      <td>44.5</td>\n",
       "    </tr>\n",
       "    <tr>\n",
       "      <th>2</th>\n",
       "      <td>Arizona</td>\n",
       "      <td>8.1</td>\n",
       "      <td>294</td>\n",
       "      <td>80</td>\n",
       "      <td>31.0</td>\n",
       "    </tr>\n",
       "    <tr>\n",
       "      <th>3</th>\n",
       "      <td>Arkansas</td>\n",
       "      <td>8.8</td>\n",
       "      <td>190</td>\n",
       "      <td>50</td>\n",
       "      <td>19.5</td>\n",
       "    </tr>\n",
       "    <tr>\n",
       "      <th>4</th>\n",
       "      <td>California</td>\n",
       "      <td>9.0</td>\n",
       "      <td>276</td>\n",
       "      <td>91</td>\n",
       "      <td>40.6</td>\n",
       "    </tr>\n",
       "  </tbody>\n",
       "</table>\n",
       "</div>"
      ],
      "text/plain": [
       "         City  Murder  Assault  UrbanPop  Rape\n",
       "0     Alabama    13.2      236        58  21.2\n",
       "1      Alaska    10.0      263        48  44.5\n",
       "2     Arizona     8.1      294        80  31.0\n",
       "3    Arkansas     8.8      190        50  19.5\n",
       "4  California     9.0      276        91  40.6"
      ]
     },
     "execution_count": 104,
     "metadata": {},
     "output_type": "execute_result"
    }
   ],
   "source": [
    "# remove all columns with at least one missing value\n",
    "columns_with_na_dropped = df.dropna(axis=1)\n",
    "columns_with_na_dropped.head()"
   ]
  },
  {
   "cell_type": "code",
   "execution_count": 105,
   "id": "cb117923",
   "metadata": {},
   "outputs": [
    {
     "data": {
      "text/html": [
       "<div>\n",
       "<style scoped>\n",
       "    .dataframe tbody tr th:only-of-type {\n",
       "        vertical-align: middle;\n",
       "    }\n",
       "\n",
       "    .dataframe tbody tr th {\n",
       "        vertical-align: top;\n",
       "    }\n",
       "\n",
       "    .dataframe thead th {\n",
       "        text-align: right;\n",
       "    }\n",
       "</style>\n",
       "<table border=\"1\" class=\"dataframe\">\n",
       "  <thead>\n",
       "    <tr style=\"text-align: right;\">\n",
       "      <th></th>\n",
       "      <th>City</th>\n",
       "      <th>Murder</th>\n",
       "      <th>Assault</th>\n",
       "      <th>UrbanPop</th>\n",
       "      <th>Rape</th>\n",
       "    </tr>\n",
       "  </thead>\n",
       "  <tbody>\n",
       "    <tr>\n",
       "      <th>0</th>\n",
       "      <td>Alabama</td>\n",
       "      <td>13.2</td>\n",
       "      <td>236</td>\n",
       "      <td>58</td>\n",
       "      <td>21.2</td>\n",
       "    </tr>\n",
       "    <tr>\n",
       "      <th>1</th>\n",
       "      <td>Alaska</td>\n",
       "      <td>10.0</td>\n",
       "      <td>263</td>\n",
       "      <td>48</td>\n",
       "      <td>44.5</td>\n",
       "    </tr>\n",
       "    <tr>\n",
       "      <th>2</th>\n",
       "      <td>Arizona</td>\n",
       "      <td>8.1</td>\n",
       "      <td>294</td>\n",
       "      <td>80</td>\n",
       "      <td>31.0</td>\n",
       "    </tr>\n",
       "    <tr>\n",
       "      <th>3</th>\n",
       "      <td>Arkansas</td>\n",
       "      <td>8.8</td>\n",
       "      <td>190</td>\n",
       "      <td>50</td>\n",
       "      <td>19.5</td>\n",
       "    </tr>\n",
       "    <tr>\n",
       "      <th>4</th>\n",
       "      <td>California</td>\n",
       "      <td>9.0</td>\n",
       "      <td>276</td>\n",
       "      <td>91</td>\n",
       "      <td>40.6</td>\n",
       "    </tr>\n",
       "  </tbody>\n",
       "</table>\n",
       "</div>"
      ],
      "text/plain": [
       "         City  Murder  Assault  UrbanPop  Rape\n",
       "0     Alabama    13.2      236        58  21.2\n",
       "1      Alaska    10.0      263        48  44.5\n",
       "2     Arizona     8.1      294        80  31.0\n",
       "3    Arkansas     8.8      190        50  19.5\n",
       "4  California     9.0      276        91  40.6"
      ]
     },
     "execution_count": 105,
     "metadata": {},
     "output_type": "execute_result"
    }
   ],
   "source": [
    "# replace all NA's with 0\n",
    "df.fillna(0).head()"
   ]
  },
  {
   "cell_type": "code",
   "execution_count": 106,
   "id": "b56a790c",
   "metadata": {},
   "outputs": [
    {
     "data": {
      "image/png": "[encoded data removed]",
      "text/plain": [
       "<Figure size 432x288 with 1 Axes>"
      ]
     },
     "metadata": {
      "needs_background": "light"
     },
     "output_type": "display_data"
    },
    {
     "data": {
      "image/png": "[encoded data removed]",
      "text/plain": [
       "<Figure size 432x288 with 1 Axes>"
      ]
     },
     "metadata": {
      "needs_background": "light"
     },
     "output_type": "display_data"
    },
    {
     "data": {
      "image/png": "[encoded data removed]",
      "text/plain": [
       "<Figure size 432x288 with 1 Axes>"
      ]
     },
     "metadata": {
      "needs_background": "light"
     },
     "output_type": "display_data"
    },
    {
     "data": {
      "image/png": "[encoded data removed]",
      "text/plain": [
       "<Figure size 432x288 with 1 Axes>"
      ]
     },
     "metadata": {
      "needs_background": "light"
     },
     "output_type": "display_data"
    },
    {
     "data": {
      "image/png": "[encoded data removed]",
      "text/plain": [
       "<Figure size 432x288 with 1 Axes>"
      ]
     },
     "metadata": {
      "needs_background": "light"
     },
     "output_type": "display_data"
    }
   ],
   "source": [
    "plt.hist(df['City'], 20, density =1,facecolor=\"yellow\", alpha=0.7)\n",
    "plt.show()\n",
    "\n",
    "plt.hist(df['Murder'], 20, density =1,facecolor=\"Red\", alpha=0.7)\n",
    "plt.show()\n",
    "\n",
    "plt.hist(df['Assault'], 20, density =1,facecolor=\"Blue\", alpha=0.7)\n",
    "plt.show()\n",
    "\n",
    "plt.hist(df['UrbanPop'], 20, density =1,facecolor=\"Green\", alpha=0.7)\n",
    "plt.show()\n",
    "\n",
    "plt.hist(df['Rape'], 20, density =1,facecolor=\"Purple\", alpha=0.7)\n",
    "plt.show()\n"
   ]
  },
  {
   "cell_type": "code",
   "execution_count": 107,
   "id": "6c19a976",
   "metadata": {},
   "outputs": [],
   "source": [
    "# Create toy data\n",
    "X, y = make_classification(n_samples=1000, n_features=10,\n",
    "                           n_informative=5, n_redundant=0,\n",
    "                           random_state=123, shuffle=False)\n",
    "\n",
    "X_train, X_test, y_train, y_test = train_test_split(X, y, test_size=0.3) # 70% training and 30% test"
   ]
  },
  {
   "cell_type": "code",
   "execution_count": 108,
   "id": "da68d821",
   "metadata": {},
   "outputs": [
    {
     "name": "stdout",
     "output_type": "stream",
     "text": [
      "Accuracy base: 0.9366666666666666\n",
      "Accuracy ensemble: 0.96\n"
     ]
    }
   ],
   "source": [
    "# Create base model\n",
    "base = DecisionTreeClassifier(max_depth=5)\n",
    "ensemble = BaggingClassifier(base_estimator=base, n_estimators=100, random_state=7)\n",
    "\n",
    "base.fit(X_train,y_train)\n",
    "ensemble.fit(X_train,y_train)\n",
    "\n",
    "print(\"Accuracy base:\",base.score(X_test, y_test))\n",
    "print(\"Accuracy ensemble:\",ensemble.score(X_test, y_test))"
   ]
  },
  {
   "cell_type": "code",
   "execution_count": 109,
   "id": "e2904cbd",
   "metadata": {},
   "outputs": [],
   "source": [
    "#IMPORTANT SCORES\n",
    "##Random Forest ensemble method let you print importance scores for features in the dataset."
   ]
  },
  {
   "cell_type": "code",
   "execution_count": 110,
   "id": "1aae95a9",
   "metadata": {},
   "outputs": [
    {
     "data": {
      "text/plain": [
       "0    0.370725\n",
       "1    0.243625\n",
       "2    0.128087\n",
       "3    0.102797\n",
       "4    0.059095\n",
       "7    0.022082\n",
       "6    0.018867\n",
       "8    0.018603\n",
       "9    0.018286\n",
       "5    0.017834\n",
       "dtype: float64"
      ]
     },
     "execution_count": 110,
     "metadata": {},
     "output_type": "execute_result"
    }
   ],
   "source": [
    "forest = RandomForestClassifier(n_estimators=100, random_state=7)\n",
    "forest.fit(X_train, y_train)\n",
    "\n",
    "feature_imp = pd.Series(forest.feature_importances_).sort_values(ascending=False)\n",
    "feature_imp"
   ]
  },
  {
   "cell_type": "code",
   "execution_count": 111,
   "id": "a43b2ee5",
   "metadata": {},
   "outputs": [],
   "source": [
    "#This removal of noise tends to improve performance and reduce training time."
   ]
  },
  {
   "cell_type": "code",
   "execution_count": 112,
   "id": "1abcc793",
   "metadata": {},
   "outputs": [
    {
     "name": "stdout",
     "output_type": "stream",
     "text": [
      "Accuracy base: 0.9433333333333334\n",
      "Accuracy ensemble: 0.9733333333333334\n"
     ]
    }
   ],
   "source": [
    "# select important features\n",
    "X = X[:, :10]\n",
    "\n",
    "# retrain \n",
    "X_train, X_test, y_train, y_test = train_test_split(X, y, test_size=0.3) # 70% training and 30% test\n",
    "base.fit(X_train,y_train)\n",
    "ensemble.fit(X_train,y_train)\n",
    "\n",
    "print(\"Accuracy base:\",base.score(X_test, y_test))\n",
    "print(\"Accuracy ensemble:\",ensemble.score(X_test, y_test))"
   ]
  },
  {
   "cell_type": "code",
   "execution_count": 113,
   "id": "1e995433",
   "metadata": {},
   "outputs": [],
   "source": [
    "#Checking the positivity and Negativity and the columns."
   ]
  },
  {
   "cell_type": "code",
   "execution_count": 114,
   "id": "18900248",
   "metadata": {},
   "outputs": [
    {
     "name": "stdout",
     "output_type": "stream",
     "text": [
      "positive =  50 negative =  0\n",
      "positive =  50 negative =  0\n",
      "positive =  50 negative =  0\n",
      "positive =  50 negative =  0\n"
     ]
    }
   ],
   "source": [
    "positive = df.Rape[df['Rape'] > 0].count()\n",
    "negative = df.Rape[df['Rape'] < 0].count()\n",
    "print( 'positive = ', positive,'negative = ', negative)\n",
    "\n",
    "positive = df.Murder[df['Murder'] > 0].count()\n",
    "negative = df.Murder[df['Murder'] < 0].count()\n",
    "print( 'positive = ', positive,'negative = ', negative)\n",
    "\n",
    "positive = df.UrbanPop[df['UrbanPop'] > 0].count()\n",
    "negative = df.UrbanPop[df['UrbanPop'] < 0].count()\n",
    "print( 'positive = ', positive,'negative = ', negative)\n",
    "\n",
    "positive = df.Assault[df['Assault'] > 0].count()\n",
    "negative = df.Assault[df['Assault'] < 0].count()\n",
    "print( 'positive = ', positive,'negative = ', negative)\n"
   ]
  },
  {
   "cell_type": "code",
   "execution_count": 121,
   "id": "953fe1da",
   "metadata": {},
   "outputs": [
    {
     "name": "stdout",
     "output_type": "stream",
     "text": [
      "Data size:\n",
      "(50, 2)\n"
     ]
    }
   ],
   "source": [
    "X = df[['UrbanPop','Rape']].values.reshape(-1,2)  \n",
    "\n",
    "print('Data size:')\n",
    "print(X.shape)\n",
    "\n",
    "K=5"
   ]
  },
  {
   "cell_type": "code",
   "execution_count": 122,
   "id": "ebc974d8",
   "metadata": {},
   "outputs": [],
   "source": [
    "###Clustering"
   ]
  },
  {
   "cell_type": "code",
   "execution_count": 123,
   "id": "69429568",
   "metadata": {},
   "outputs": [
    {
     "data": {
      "image/png": "[encoded data removed]",
      "text/plain": [
       "<Figure size 1080x216 with 3 Axes>"
      ]
     },
     "metadata": {
      "needs_background": "light"
     },
     "output_type": "display_data"
    }
   ],
   "source": [
    "plt.figure(figsize=[15,3])\n",
    "\n",
    "linkage_types = ['complete', 'average', 'single']\n",
    "\n",
    "for i, l in enumerate(linkage_types):\n",
    "  plt.subplot(1, 3, i+1)\n",
    "  \n",
    "  cluster = AgglomerativeClustering(n_clusters=K, affinity='euclidean', linkage=l)\n",
    "  cluster.fit_predict(X)\n",
    "\n",
    "  ax = plt.scatter(X[:,0], X[:,1], c=cluster.labels_)\n",
    "  \n",
    "  plt.title('Clusters based on {} linkage'.format(l))\n",
    "  plt.xlabel('UrbanPop')\n",
    "  plt.ylabel('Rape')\n",
    " \n",
    "L = 'complete'"
   ]
  },
  {
   "cell_type": "code",
   "execution_count": 124,
   "id": "aa20b78e",
   "metadata": {},
   "outputs": [
    {
     "data": {
      "image/png": "[encoded data removed]",
      "text/plain": [
       "<Figure size 432x288 with 1 Axes>"
      ]
     },
     "metadata": {
      "needs_background": "light"
     },
     "output_type": "display_data"
    }
   ],
   "source": [
    "plt.title(\"Complete linkage based Dendograms\")  \n",
    "dend = dendrogram(linkage(X, method='complete'))  "
   ]
  },
  {
   "cell_type": "code",
   "execution_count": 125,
   "id": "9e280368",
   "metadata": {},
   "outputs": [
    {
     "data": {
      "image/png": "[encoded data removed]",
      "text/plain": [
       "<Figure size 432x288 with 1 Axes>"
      ]
     },
     "metadata": {
      "needs_background": "light"
     },
     "output_type": "display_data"
    }
   ],
   "source": [
    "plt.title(\"Complete linkage based Dendograms\")  \n",
    "dend = dendrogram(linkage(X, method='average'))  "
   ]
  },
  {
   "cell_type": "code",
   "execution_count": 126,
   "id": "e163a1a9",
   "metadata": {},
   "outputs": [
    {
     "data": {
      "text/plain": [
       "<matplotlib.collections.PathCollection at 0x2593353fc40>"
      ]
     },
     "execution_count": 126,
     "metadata": {},
     "output_type": "execute_result"
    },
    {
     "data": {
      "image/png": "[encoded data removed]",
      "text/plain": [
       "<Figure size 432x288 with 1 Axes>"
      ]
     },
     "metadata": {
      "needs_background": "light"
     },
     "output_type": "display_data"
    }
   ],
   "source": [
    "cluster = AgglomerativeClustering(n_clusters=K, affinity='euclidean', linkage=L)\n",
    "cluster.fit_predict(X)\n",
    "plt.scatter(X[:,0], X[:,1], c=cluster.labels_)"
   ]
  },
  {
   "cell_type": "code",
   "execution_count": null,
   "id": "cdd805a1",
   "metadata": {},
   "outputs": [],
   "source": [
    "#Interpretation\n",
    "#The data points in the bottom right belong to the customers with high salaries but low spending. These are the customers that spend their money carefully. The customers at top right have high salaries and spend a lot. These are the type of customers that companies target. Both groups have a long tail, showing the presence of a small group of very high-income shoppers.\n",
    "\n",
    "#The customers in the middle are the ones with average income and average spending. The density of this clusters shows that this cluster contains the most companies. For this reason, companies also target these customers."
   ]
  },
  {
   "cell_type": "code",
   "execution_count": 127,
   "id": "d9c55990",
   "metadata": {},
   "outputs": [
    {
     "data": {
      "image/png": "[encoded data removed]",
      "text/plain": [
       "<Figure size 432x288 with 1 Axes>"
      ]
     },
     "metadata": {
      "needs_background": "light"
     },
     "output_type": "display_data"
    },
    {
     "data": {
      "image/png": "[encoded data removed]",
      "text/plain": [
       "<Figure size 432x288 with 1 Axes>"
      ]
     },
     "metadata": {
      "needs_background": "light"
     },
     "output_type": "display_data"
    },
    {
     "data": {
      "image/png": "[encoded data removed]",
      "text/plain": [
       "<Figure size 432x288 with 1 Axes>"
      ]
     },
     "metadata": {
      "needs_background": "light"
     },
     "output_type": "display_data"
    }
   ],
   "source": [
    "from sklearn.cluster import KMeans\n",
    "from sklearn.metrics import accuracy_score, silhouette_score\n",
    "\n",
    "def scatter_Kmeans(x, k, r=123):\n",
    "    kmeans = KMeans(n_clusters=k, init='k-means++', random_state=r)\n",
    "    y_pred = kmeans.fit_predict(x)\n",
    "    colours = 'rbgcmy'\n",
    "    for c in range(k):\n",
    "      plt.scatter(x[y_pred == c, 0], x[y_pred == c,1], c = colours[c], label = 'Cluster {}'.format(c))\n",
    "      plt.scatter(kmeans.cluster_centers_[c, 0], kmeans.cluster_centers_[c, 1], marker='x', c = 'black')\n",
    "    \n",
    "    score = round(silhouette_score(X, kmeans.labels_, metric='euclidean'),2)\n",
    "    plt.title('silhouette={}'.format(score), loc='right', fontdict={'fontsize': 16}, pad=-14)\n",
    "    plt.xlabel('UrbanPop')\n",
    "    plt.ylabel('Rape')\n",
    "    plt.legend()\n",
    "    plt.show()\n",
    "\n",
    "for k in range(4,7):\n",
    "  scatter_Kmeans(X, k, r=0)"
   ]
  },
  {
   "cell_type": "code",
   "execution_count": 128,
   "id": "cbdc7e9e",
   "metadata": {},
   "outputs": [
    {
     "name": "stderr",
     "output_type": "stream",
     "text": [
      "C:\\Users\\korina Mokati\\anaconda3\\lib\\site-packages\\sklearn\\cluster\\_kmeans.py:881: UserWarning: KMeans is known to have a memory leak on Windows with MKL, when there are less chunks than available threads. You can avoid it by setting the environment variable OMP_NUM_THREADS=1.\n",
      "  warnings.warn(\n"
     ]
    },
    {
     "data": {
      "image/png": "[encoded data removed]",
      "text/plain": [
       "<Figure size 432x288 with 1 Axes>"
      ]
     },
     "metadata": {
      "needs_background": "light"
     },
     "output_type": "display_data"
    }
   ],
   "source": [
    "def eval_Kmeans(x, k, r):\n",
    "    kmeans = KMeans(n_clusters=k, random_state=r)\n",
    "    kmeans.fit(x)    \n",
    "    return kmeans.inertia_\n",
    "\n",
    "def elbow_Kmeans(x, max_k=10, r=123):\n",
    "    within_cluster_vars = [eval_Kmeans(x, k, r) for k in range(1,max_k+1)]\n",
    "    plt.plot(range(1,11), within_cluster_vars,marker='o')\n",
    "    plt.xlabel('K')\n",
    "    plt.ylabel('Inertia')\n",
    "    plt.show()\n",
    "\n",
    "elbow_Kmeans(X)\n"
   ]
  },
  {
   "cell_type": "code",
   "execution_count": null,
   "id": "311a49bb",
   "metadata": {},
   "outputs": [],
   "source": [
    "#The elbow runs from k=3 to k=5. In cases like this, it is not always clear which value within the elbow is the most optimal, so we can investigate likely candidates further using the silhouette score."
   ]
  },
  {
   "cell_type": "code",
   "execution_count": 130,
   "id": "c6b3247e",
   "metadata": {},
   "outputs": [
    {
     "data": {
      "image/png": "[encoded data removed]",
      "text/plain": [
       "<Figure size 1080x1080 with 2 Axes>"
      ]
     },
     "metadata": {
      "needs_background": "light"
     },
     "output_type": "display_data"
    }
   ],
   "source": [
    "colormap = sns.diverging_palette(220, 10, as_cmap=True)\n",
    "\n",
    "def corr_heatmap(df):\n",
    "  # get correlations\n",
    "  corrs = df.corr()\n",
    "\n",
    "  # pick appropriate palette for heatmap\n",
    "\n",
    "  # Plot figsize\n",
    "  fig, ax = plt.subplots(figsize=(15, 15))\n",
    "\n",
    "  # to mask mirrored side of heatmap\n",
    "  dropSelf = np.zeros_like(corrs)\n",
    "  dropSelf[np.triu_indices_from(dropSelf)] = True\n",
    "\n",
    "  # Generate Heat Map, with annotations of the correlation strength and 2-decimal floats\n",
    "  ax = sns.heatmap(corrs, cmap=colormap, annot=True, fmt=\".2f\", mask=dropSelf, linewidth=2)\n",
    "\n",
    "  plt.show()\n",
    "\n",
    "corr_heatmap(df)"
   ]
  },
  {
   "cell_type": "code",
   "execution_count": 132,
   "id": "a5572cb3",
   "metadata": {},
   "outputs": [
    {
     "data": {
      "text/html": [
       "<div>\n",
       "<style scoped>\n",
       "    .dataframe tbody tr th:only-of-type {\n",
       "        vertical-align: middle;\n",
       "    }\n",
       "\n",
       "    .dataframe tbody tr th {\n",
       "        vertical-align: top;\n",
       "    }\n",
       "\n",
       "    .dataframe thead th {\n",
       "        text-align: right;\n",
       "    }\n",
       "</style>\n",
       "<table border=\"1\" class=\"dataframe\">\n",
       "  <thead>\n",
       "    <tr style=\"text-align: right;\">\n",
       "      <th></th>\n",
       "      <th>Murder</th>\n",
       "      <th>UrbanPop</th>\n",
       "      <th>Rape</th>\n",
       "    </tr>\n",
       "    <tr>\n",
       "      <th>Assault</th>\n",
       "      <th></th>\n",
       "      <th></th>\n",
       "      <th></th>\n",
       "    </tr>\n",
       "  </thead>\n",
       "  <tbody>\n",
       "    <tr>\n",
       "      <th>236</th>\n",
       "      <td>13.2</td>\n",
       "      <td>58</td>\n",
       "      <td>21.2</td>\n",
       "    </tr>\n",
       "    <tr>\n",
       "      <th>263</th>\n",
       "      <td>10.0</td>\n",
       "      <td>48</td>\n",
       "      <td>44.5</td>\n",
       "    </tr>\n",
       "    <tr>\n",
       "      <th>294</th>\n",
       "      <td>8.1</td>\n",
       "      <td>80</td>\n",
       "      <td>31.0</td>\n",
       "    </tr>\n",
       "    <tr>\n",
       "      <th>190</th>\n",
       "      <td>8.8</td>\n",
       "      <td>50</td>\n",
       "      <td>19.5</td>\n",
       "    </tr>\n",
       "    <tr>\n",
       "      <th>276</th>\n",
       "      <td>9.0</td>\n",
       "      <td>91</td>\n",
       "      <td>40.6</td>\n",
       "    </tr>\n",
       "  </tbody>\n",
       "</table>\n",
       "</div>"
      ],
      "text/plain": [
       "         Murder  UrbanPop  Rape\n",
       "Assault                        \n",
       "236        13.2        58  21.2\n",
       "263        10.0        48  44.5\n",
       "294         8.1        80  31.0\n",
       "190         8.8        50  19.5\n",
       "276         9.0        91  40.6"
      ]
     },
     "execution_count": 132,
     "metadata": {},
     "output_type": "execute_result"
    }
   ],
   "source": [
    "# drop Assault column\n",
    "df = df.drop(columns=['City'])\n",
    "df = df.set_index('Assault')\n",
    "df.head()"
   ]
  },
  {
   "cell_type": "code",
   "execution_count": 133,
   "id": "7fd401c8",
   "metadata": {},
   "outputs": [
    {
     "data": {
      "text/html": [
       "<div>\n",
       "<style scoped>\n",
       "    .dataframe tbody tr th:only-of-type {\n",
       "        vertical-align: middle;\n",
       "    }\n",
       "\n",
       "    .dataframe tbody tr th {\n",
       "        vertical-align: top;\n",
       "    }\n",
       "\n",
       "    .dataframe thead th {\n",
       "        text-align: right;\n",
       "    }\n",
       "</style>\n",
       "<table border=\"1\" class=\"dataframe\">\n",
       "  <thead>\n",
       "    <tr style=\"text-align: right;\">\n",
       "      <th></th>\n",
       "      <th>0</th>\n",
       "      <th>1</th>\n",
       "      <th>2</th>\n",
       "    </tr>\n",
       "    <tr>\n",
       "      <th>Assault</th>\n",
       "      <th></th>\n",
       "      <th></th>\n",
       "      <th></th>\n",
       "    </tr>\n",
       "  </thead>\n",
       "  <tbody>\n",
       "    <tr>\n",
       "      <th>236</th>\n",
       "      <td>0.484428</td>\n",
       "      <td>1.162276</td>\n",
       "      <td>-0.516539</td>\n",
       "    </tr>\n",
       "    <tr>\n",
       "      <th>263</th>\n",
       "      <td>1.483964</td>\n",
       "      <td>1.369096</td>\n",
       "      <td>1.995536</td>\n",
       "    </tr>\n",
       "    <tr>\n",
       "      <th>294</th>\n",
       "      <td>1.214436</td>\n",
       "      <td>-0.741392</td>\n",
       "      <td>0.329907</td>\n",
       "    </tr>\n",
       "    <tr>\n",
       "      <th>190</th>\n",
       "      <td>-0.473865</td>\n",
       "      <td>1.009405</td>\n",
       "      <td>0.150527</td>\n",
       "    </tr>\n",
       "    <tr>\n",
       "      <th>276</th>\n",
       "      <td>2.387772</td>\n",
       "      <td>-1.207947</td>\n",
       "      <td>0.662206</td>\n",
       "    </tr>\n",
       "  </tbody>\n",
       "</table>\n",
       "</div>"
      ],
      "text/plain": [
       "                0         1         2\n",
       "Assault                              \n",
       "236      0.484428  1.162276 -0.516539\n",
       "263      1.483964  1.369096  1.995536\n",
       "294      1.214436 -0.741392  0.329907\n",
       "190     -0.473865  1.009405  0.150527\n",
       "276      2.387772 -1.207947  0.662206"
      ]
     },
     "execution_count": 133,
     "metadata": {},
     "output_type": "execute_result"
    }
   ],
   "source": [
    "# select and standardize features\n",
    "X = StandardScaler().fit_transform(df.values)\n",
    "\n",
    "# choose number of components to be generated\n",
    "nr_comps = 3\n",
    "pca = PCA(n_components=nr_comps)\n",
    "\n",
    "# obtain components\n",
    "principal_components = pca.fit_transform(X)\n",
    "\n",
    "# transform the components into a pandas data frame\n",
    "pca_df = pd.DataFrame(principal_components, index=df.index)\n",
    "\n",
    "# This is to include the country code  as the rownames in the PC's\n",
    "pca_df.head()"
   ]
  }
 ],
 "metadata": {
  "kernelspec": {
   "display_name": "Python 3",
   "language": "python",
   "name": "python3"
  },
  "language_info": {
   "codemirror_mode": {
    "name": "ipython",
    "version": 3
   },
   "file_extension": ".py",
   "mimetype": "text/x-python",
   "name": "python",
   "nbconvert_exporter": "python",
   "pygments_lexer": "ipython3",
   "version": "3.8.8"
  }
 },
 "nbformat": 4,
 "nbformat_minor": 5
}
